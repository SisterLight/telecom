{
 "cells": [
  {
   "cell_type": "markdown",
   "metadata": {},
   "source": [
    "# Определение перспективного тарифа для телеком компании\n",
    "\n",
    "Необходимо произвести анализ «Мегалайн» — федерального оператора сотовой связи. Клиентам предлагают два тарифных плана: «Смарт» и «Ультра». Чтобы скорректировать рекламный бюджет, коммерческий департамент хочет понять, какой тариф приносит больше денег.\n",
    "Предстоит сделать предварительный анализ тарифов на небольшой выборке клиентов. В вашем распоряжении данные 500 пользователей «Мегалайна»: кто они, откуда, каким тарифом пользуются, сколько звонков и сообщений каждый отправил за 2018 год. Нужно проанализировать поведение клиентов и сделать вывод — какой тариф лучше. \n",
    "\n",
    "Таблица описания тарифов:\n",
    "\n",
    "|Услуга             |Тариф «Смарт»  |Тариф «Ультра   |\n",
    "| ----------------- | ------------- | -------------- |\n",
    "|Ежемесячная плата  |550 рублей     |1950 рублей     |\n",
    "|Включено:          |               |                |\n",
    "|Минут разговора    |500            |3000            |\n",
    "|Сообщений          |50             |1000            |\n",
    "|Интернет-трафика   |15 Гб          |30 Гб           |\n",
    "|Сверх:             |               |                |\n",
    "|Минута разговора*  |3 рубля        |1 рубль         |\n",
    "|Сообщение          |3 рубля        |1 рубль         |\n",
    "|1 Гб               |200 рублей     |150 рублей      |\n",
    "*(округляет вверх)"
   ]
  },
  {
   "cell_type": "markdown",
   "metadata": {},
   "source": [
    "<div class=\"alert alert-block alert-success\">\n",
    "Комментарий ревьюера v. 1:\n",
    "    \n",
    "Молодец, что кратко описала цель проекта и тарифы для анализа.\n",
    "</div>"
   ]
  },
  {
   "cell_type": "markdown",
   "metadata": {},
   "source": [
    "### Служебные функци для быстрого использования"
   ]
  },
  {
   "cell_type": "code",
   "execution_count": 23,
   "metadata": {},
   "outputs": [],
   "source": [
    "import matplotlib.pyplot as plt\n",
    "import pandas as pd\n",
    "import numpy as np\n",
    "import math as math\n",
    "from scipy import stats as st\n",
    "import seaborn as sns\n",
    "\n",
    "def myhist(b, x,xl,g, r):\n",
    "    x.hist(bins=b, range=r)\n",
    "    plt.title(f'Гистограмма {g}: ' + xl)\n",
    "    plt.xlabel(xl)\n",
    "    plt.ylabel(\"Частота\")\n",
    "\n",
    "\n",
    "    "
   ]
  },
  {
   "cell_type": "code",
   "execution_count": 24,
   "metadata": {},
   "outputs": [],
   "source": [
    "import sys\n",
    "import warnings\n",
    "if not sys.warnoptions:\n",
    "       warnings.simplefilter(\"ignore\")"
   ]
  },
  {
   "cell_type": "markdown",
   "metadata": {},
   "source": [
    "<div class=\"alert alert-block alert-success\">\n",
    "Комментарий ревьюера v. 1:\n",
    "    \n",
    "Отличная идея использовать отдельные функции для построения графиков :)\n",
    "</div>"
   ]
  },
  {
   "cell_type": "markdown",
   "metadata": {},
   "source": [
    "## Шаг 1. Изучение общей информацию"
   ]
  },
  {
   "cell_type": "code",
   "execution_count": 25,
   "metadata": {},
   "outputs": [],
   "source": [
    "calls = pd.read_csv('/datasets/calls.csv',  sep=',' , decimal='.')\n",
    "calls.name = 'calls'\n",
    "internet = pd.read_csv('/datasets/internet.csv',  sep=',' , decimal='.')\n",
    "internet.name = 'internet'\n",
    "messages = pd.read_csv('/datasets/messages.csv',  sep=',' , decimal='.')\n",
    "messages.name = 'messages'\n",
    "tariffs = pd.read_csv('/datasets/tariffs.csv',  sep=',' , decimal='.')\n",
    "tariffs.name = 'tariffs'\n",
    "users = pd.read_csv('/datasets/users.csv',  sep=',' , decimal='.')\n",
    "users.name ='users'"
   ]
  },
  {
   "cell_type": "code",
   "execution_count": 26,
   "metadata": {},
   "outputs": [
    {
     "name": "stdout",
     "output_type": "stream",
     "text": [
      "\n",
      " calls \n",
      "\n",
      "<class 'pandas.core.frame.DataFrame'>\n",
      "RangeIndex: 202607 entries, 0 to 202606\n",
      "Data columns (total 4 columns):\n",
      "id           202607 non-null object\n",
      "call_date    202607 non-null object\n",
      "duration     202607 non-null float64\n",
      "user_id      202607 non-null int64\n",
      "dtypes: float64(1), int64(1), object(2)\n",
      "memory usage: 6.2+ MB\n",
      "\n",
      " internet \n",
      "\n",
      "<class 'pandas.core.frame.DataFrame'>\n",
      "RangeIndex: 149396 entries, 0 to 149395\n",
      "Data columns (total 5 columns):\n",
      "Unnamed: 0      149396 non-null int64\n",
      "id              149396 non-null object\n",
      "mb_used         149396 non-null float64\n",
      "session_date    149396 non-null object\n",
      "user_id         149396 non-null int64\n",
      "dtypes: float64(1), int64(2), object(2)\n",
      "memory usage: 5.7+ MB\n",
      "\n",
      " messages \n",
      "\n",
      "<class 'pandas.core.frame.DataFrame'>\n",
      "RangeIndex: 123036 entries, 0 to 123035\n",
      "Data columns (total 3 columns):\n",
      "id              123036 non-null object\n",
      "message_date    123036 non-null object\n",
      "user_id         123036 non-null int64\n",
      "dtypes: int64(1), object(2)\n",
      "memory usage: 2.8+ MB\n",
      "\n",
      " tariffs \n",
      "\n",
      "<class 'pandas.core.frame.DataFrame'>\n",
      "RangeIndex: 2 entries, 0 to 1\n",
      "Data columns (total 8 columns):\n",
      "messages_included        2 non-null int64\n",
      "mb_per_month_included    2 non-null int64\n",
      "minutes_included         2 non-null int64\n",
      "rub_monthly_fee          2 non-null int64\n",
      "rub_per_gb               2 non-null int64\n",
      "rub_per_message          2 non-null int64\n",
      "rub_per_minute           2 non-null int64\n",
      "tariff_name              2 non-null object\n",
      "dtypes: int64(7), object(1)\n",
      "memory usage: 256.0+ bytes\n",
      "\n",
      " users \n",
      "\n",
      "<class 'pandas.core.frame.DataFrame'>\n",
      "RangeIndex: 500 entries, 0 to 499\n",
      "Data columns (total 8 columns):\n",
      "user_id       500 non-null int64\n",
      "age           500 non-null int64\n",
      "churn_date    38 non-null object\n",
      "city          500 non-null object\n",
      "first_name    500 non-null object\n",
      "last_name     500 non-null object\n",
      "reg_date      500 non-null object\n",
      "tariff        500 non-null object\n",
      "dtypes: int64(2), object(6)\n",
      "memory usage: 31.4+ KB\n"
     ]
    }
   ],
   "source": [
    "df_list = [calls, internet, messages, tariffs, users]\n",
    "for x in df_list:\n",
    "    print('\\n',x.name,'\\n')\n",
    "    x.info()\n"
   ]
  },
  {
   "cell_type": "markdown",
   "metadata": {},
   "source": [
    "Вот название и значения колонок в этих таблицах <strike>слева направо</strike>:\n",
    "\n",
    "<b>Таблица users (информация о пользователях):</b>\n",
    "\n",
    "* user_id — уникальный идентификатор пользователя\n",
    "* first_name — имя пользователя\n",
    "* last_name — фамилия пользователя\n",
    "* age — возраст пользователя (годы)\n",
    "* reg_date — дата подключения тарифа (день, месяц, год)\n",
    "* churn_date — дата прекращения пользования тарифом (если значение пропущено, то тариф ещё действовал на момент выгрузки данных)\n",
    "* city — город проживания пользователя\n",
    "* tariff — название тарифного плана\n",
    "\n",
    "<b>Таблица calls (информация о звонках):</b>\n",
    "\n",
    "* id — уникальный номер звонка\n",
    "* call_date — дата звонка\n",
    "* duration — длительность звонка в минутах\n",
    "* user_id — идентификатор пользователя, сделавшего звонок\n",
    "\n",
    "<b>Таблица messages (информация о сообщениях):</b>\n",
    "\n",
    "* id — уникальный номер сообщения\n",
    "* message_date — дата сообщения\n",
    "* user_id — идентификатор пользователя, отправившего сообщение\n",
    "\n",
    "<b>Таблица internet (информация об интернет-сессиях):</b>\n",
    "\n",
    "* id — уникальный номер сессии\n",
    "* mb_used — объём потраченного за сессию интернет-трафика (в мегабайтах)\n",
    "* session_date — дата интернет-сессии\n",
    "* user_id — идентификатор пользователя\n",
    "\n",
    "<b>Таблица tariffs (информация о тарифах):</b>\n",
    "\n",
    "* tariff_name — название тарифа\n",
    "* rub_monthly_fee — ежемесячная абонентская плата в рублях\n",
    "* minutes_included — количество минут разговора в месяц, включённых в абонентскую плату\n",
    "* messages_included — количество сообщений в месяц, включённых в абонентскую плату\n",
    "* mb_per_month_included — объём интернет-трафика, включённого в абонентскую плату (в мегабайтах)\n",
    "* rub_per_minute — стоимость минуты разговора сверх тарифного пакета (например, если в тарифе 100 минут разговора в месяц, то со 101-й минуты будет взиматься плата)\n",
    "* rub_per_message — стоимость отправки сообщения сверх тарифного пакета\n",
    "* rub_per_gb — стоимость дополнительного гигабайта интернет-трафика сверх тарифного пакета (1 гигабайт = 1024 мегабайта)\n",
    "\n",
    "### Вывод\n",
    "Имеется 5 связанных между собою таблиц, в которых почти нет пропусков. Необходимо изучить таблицы, выполнив обработку данных для дальнейшего анализа, сделать  мега-таблицу для анализа."
   ]
  },
  {
   "cell_type": "markdown",
   "metadata": {},
   "source": [
    "## Шаг 2. Предобработка данных\n",
    "### Дубликаты\n",
    "Сначала удалим все дубликаты в таблицах, если они есть."
   ]
  },
  {
   "cell_type": "code",
   "execution_count": 27,
   "metadata": {},
   "outputs": [
    {
     "name": "stdout",
     "output_type": "stream",
     "text": [
      "таблица calls длиной - 202607 до обработки\n",
      "после: 202607\n",
      "таблица internet длиной - 149396 до обработки\n",
      "после: 149396\n",
      "таблица messages длиной - 123036 до обработки\n",
      "после: 123036\n",
      "таблица tariffs длиной - 2 до обработки\n",
      "после: 2\n",
      "таблица users длиной - 500 до обработки\n",
      "после: 500\n"
     ]
    }
   ],
   "source": [
    "for x in df_list:\n",
    "    print(f'таблица {x.name} длиной - {len(x)} до обработки')\n",
    "    x.drop_duplicates(inplace = True) \n",
    "    print(f'после: {len(x)}')"
   ]
  },
  {
   "cell_type": "markdown",
   "metadata": {},
   "source": [
    "Дубликатов нет. Начнем смотреть более прицельно.\n",
    "### users "
   ]
  },
  {
   "cell_type": "code",
   "execution_count": 28,
   "metadata": {},
   "outputs": [
    {
     "data": {
      "text/html": [
       "<div>\n",
       "<style scoped>\n",
       "    .dataframe tbody tr th:only-of-type {\n",
       "        vertical-align: middle;\n",
       "    }\n",
       "\n",
       "    .dataframe tbody tr th {\n",
       "        vertical-align: top;\n",
       "    }\n",
       "\n",
       "    .dataframe thead th {\n",
       "        text-align: right;\n",
       "    }\n",
       "</style>\n",
       "<table border=\"1\" class=\"dataframe\">\n",
       "  <thead>\n",
       "    <tr style=\"text-align: right;\">\n",
       "      <th></th>\n",
       "      <th>user_id</th>\n",
       "      <th>age</th>\n",
       "      <th>churn_date</th>\n",
       "      <th>city</th>\n",
       "      <th>first_name</th>\n",
       "      <th>last_name</th>\n",
       "      <th>reg_date</th>\n",
       "      <th>tariff</th>\n",
       "    </tr>\n",
       "  </thead>\n",
       "  <tbody>\n",
       "    <tr>\n",
       "      <td>0</td>\n",
       "      <td>1000</td>\n",
       "      <td>52</td>\n",
       "      <td>NaN</td>\n",
       "      <td>Краснодар</td>\n",
       "      <td>Рафаил</td>\n",
       "      <td>Верещагин</td>\n",
       "      <td>2018-05-25</td>\n",
       "      <td>ultra</td>\n",
       "    </tr>\n",
       "    <tr>\n",
       "      <td>1</td>\n",
       "      <td>1001</td>\n",
       "      <td>41</td>\n",
       "      <td>NaN</td>\n",
       "      <td>Москва</td>\n",
       "      <td>Иван</td>\n",
       "      <td>Ежов</td>\n",
       "      <td>2018-11-01</td>\n",
       "      <td>smart</td>\n",
       "    </tr>\n",
       "    <tr>\n",
       "      <td>2</td>\n",
       "      <td>1002</td>\n",
       "      <td>59</td>\n",
       "      <td>NaN</td>\n",
       "      <td>Стерлитамак</td>\n",
       "      <td>Евгений</td>\n",
       "      <td>Абрамович</td>\n",
       "      <td>2018-06-17</td>\n",
       "      <td>smart</td>\n",
       "    </tr>\n",
       "    <tr>\n",
       "      <td>3</td>\n",
       "      <td>1003</td>\n",
       "      <td>23</td>\n",
       "      <td>NaN</td>\n",
       "      <td>Москва</td>\n",
       "      <td>Белла</td>\n",
       "      <td>Белякова</td>\n",
       "      <td>2018-08-17</td>\n",
       "      <td>ultra</td>\n",
       "    </tr>\n",
       "    <tr>\n",
       "      <td>4</td>\n",
       "      <td>1004</td>\n",
       "      <td>68</td>\n",
       "      <td>NaN</td>\n",
       "      <td>Новокузнецк</td>\n",
       "      <td>Татьяна</td>\n",
       "      <td>Авдеенко</td>\n",
       "      <td>2018-05-14</td>\n",
       "      <td>ultra</td>\n",
       "    </tr>\n",
       "  </tbody>\n",
       "</table>\n",
       "</div>"
      ],
      "text/plain": [
       "   user_id  age churn_date         city first_name  last_name    reg_date  \\\n",
       "0     1000   52        NaN    Краснодар     Рафаил  Верещагин  2018-05-25   \n",
       "1     1001   41        NaN       Москва       Иван       Ежов  2018-11-01   \n",
       "2     1002   59        NaN  Стерлитамак    Евгений  Абрамович  2018-06-17   \n",
       "3     1003   23        NaN       Москва      Белла   Белякова  2018-08-17   \n",
       "4     1004   68        NaN  Новокузнецк    Татьяна   Авдеенко  2018-05-14   \n",
       "\n",
       "  tariff  \n",
       "0  ultra  \n",
       "1  smart  \n",
       "2  smart  \n",
       "3  ultra  \n",
       "4  ultra  "
      ]
     },
     "execution_count": 28,
     "metadata": {},
     "output_type": "execute_result"
    }
   ],
   "source": [
    "users.head()"
   ]
  },
  {
   "cell_type": "markdown",
   "metadata": {},
   "source": [
    "Переведем  все даты в тип datetime64. Добавим столбец день и месяц подключения и отключения."
   ]
  },
  {
   "cell_type": "code",
   "execution_count": 29,
   "metadata": {},
   "outputs": [
    {
     "name": "stdout",
     "output_type": "stream",
     "text": [
      "Диапозон наблюдений: \n",
      " подключения 2018-01-01 00:00:00 - 2018-12-31 00:00:00; \n",
      " отключения 2018-08-17 00:00:00 - 2018-12-30 00:00:00\n"
     ]
    }
   ],
   "source": [
    "users['churn_date'] = pd.to_datetime(users['churn_date'], format='%Y-%m-%d')\n",
    "users['reg_date'] = pd.to_datetime(users['reg_date'], format='%Y-%m-%d')\n",
    "\n",
    "users['churn_day'] = pd.DatetimeIndex(users['churn_date']).month\n",
    "users['churn_month'] = pd.DatetimeIndex(users['churn_date']).day\n",
    "\n",
    "users['reg_day'] = pd.DatetimeIndex(users['churn_date']).month\n",
    "users['reg_month'] = pd.DatetimeIndex(users['churn_date']).day\n",
    "\n",
    "print(f\"Диапозон наблюдений: \\n подключения {users['reg_date'].min()} - {users['reg_date'].max()}; \\n отключения {users['churn_date'].min()} - {users['churn_date'].max()}\")"
   ]
  },
  {
   "cell_type": "markdown",
   "metadata": {},
   "source": [
    "<div class=\"alert alert-block alert-success\">\n",
    "Комментарий ревьюера v. 1:\n",
    "    \n",
    "Ок, данные к нужному типу приведены.\n",
    "</div>"
   ]
  },
  {
   "cell_type": "markdown",
   "metadata": {},
   "source": [
    "В таблицах отражены данные наблюдения за 500 подключениями. Поосмотрим на города:"
   ]
  },
  {
   "cell_type": "code",
   "execution_count": 30,
   "metadata": {
    "scrolled": true
   },
   "outputs": [
    {
     "data": {
      "text/plain": [
       "Москва             99\n",
       "Санкт-Петербург    39\n",
       "Новосибирск        16\n",
       "Омск               14\n",
       "Казань             14\n",
       "                   ..\n",
       "Нижневартовск       1\n",
       "Архангельск         1\n",
       "Подольск            1\n",
       "Химки               1\n",
       "Иваново             1\n",
       "Name: city, Length: 76, dtype: int64"
      ]
     },
     "execution_count": 30,
     "metadata": {},
     "output_type": "execute_result"
    }
   ],
   "source": [
    "users['city'].value_counts(dropna = False)"
   ]
  },
  {
   "cell_type": "markdown",
   "metadata": {},
   "source": [
    "Наблюдения ведутся по всей России. Но мы не сможем построить анализ по городу для одного человека. Поэтому оставим Москву, Санкт-Петербург и Другой:"
   ]
  },
  {
   "cell_type": "code",
   "execution_count": 31,
   "metadata": {},
   "outputs": [
    {
     "data": {
      "text/plain": [
       "Другой             362\n",
       "Москва              99\n",
       "Санкт-Петербург     39\n",
       "Name: city, dtype: int64"
      ]
     },
     "execution_count": 31,
     "metadata": {},
     "output_type": "execute_result"
    }
   ],
   "source": [
    "users['city'] = users['city'].where(((users['city'] == 'Москва')|(users['city'] == 'Санкт-Петербург')), 'Другой')\n",
    "users['city'].value_counts()"
   ]
  },
  {
   "cell_type": "markdown",
   "metadata": {},
   "source": [
    "Соединим имя и фамилию, посмотрим, нет ли абонентов с одинаковыми полными именами."
   ]
  },
  {
   "cell_type": "code",
   "execution_count": 32,
   "metadata": {},
   "outputs": [
    {
     "data": {
      "text/plain": [
       "Бобылёв Альбин        1\n",
       "Кондратов Радомир     1\n",
       "Алешин Адам           1\n",
       "Гаврилова Элеонора    1\n",
       "Ёлчина Валерия        1\n",
       "                     ..\n",
       "Аракина Розалия       1\n",
       "Галкин Рустэм         1\n",
       "Суслов Онисим         1\n",
       "Авраамова Лидия       1\n",
       "Костин Исаак          1\n",
       "Name: full_name, Length: 500, dtype: int64"
      ]
     },
     "execution_count": 32,
     "metadata": {},
     "output_type": "execute_result"
    }
   ],
   "source": [
    "users['full_name'] = users['last_name'] + ' ' + users['first_name']\n",
    "users['full_name'].value_counts(dropna = False)"
   ]
  },
  {
   "cell_type": "markdown",
   "metadata": {},
   "source": [
    "Таких не имеется."
   ]
  },
  {
   "cell_type": "markdown",
   "metadata": {},
   "source": [
    "Добавим id , age, churn_date, city, reg_date, tariff в таблицу df"
   ]
  },
  {
   "cell_type": "code",
   "execution_count": 33,
   "metadata": {},
   "outputs": [],
   "source": [
    "df = users[['user_id' , 'age', 'churn_date', 'city', 'reg_date', 'tariff']].rename({'user_id':'user_id','age':'age','churn_date':'churn_date','city':'city','reg_date':'reg_date','tariff':'tariff'}, axis=1)"
   ]
  },
  {
   "cell_type": "markdown",
   "metadata": {},
   "source": [
    "### calls"
   ]
  },
  {
   "cell_type": "code",
   "execution_count": 34,
   "metadata": {},
   "outputs": [
    {
     "data": {
      "text/html": [
       "<div>\n",
       "<style scoped>\n",
       "    .dataframe tbody tr th:only-of-type {\n",
       "        vertical-align: middle;\n",
       "    }\n",
       "\n",
       "    .dataframe tbody tr th {\n",
       "        vertical-align: top;\n",
       "    }\n",
       "\n",
       "    .dataframe thead th {\n",
       "        text-align: right;\n",
       "    }\n",
       "</style>\n",
       "<table border=\"1\" class=\"dataframe\">\n",
       "  <thead>\n",
       "    <tr style=\"text-align: right;\">\n",
       "      <th></th>\n",
       "      <th>id</th>\n",
       "      <th>call_date</th>\n",
       "      <th>duration</th>\n",
       "      <th>user_id</th>\n",
       "    </tr>\n",
       "  </thead>\n",
       "  <tbody>\n",
       "    <tr>\n",
       "      <td>0</td>\n",
       "      <td>1000_0</td>\n",
       "      <td>2018-07-25</td>\n",
       "      <td>0.00</td>\n",
       "      <td>1000</td>\n",
       "    </tr>\n",
       "    <tr>\n",
       "      <td>1</td>\n",
       "      <td>1000_1</td>\n",
       "      <td>2018-08-17</td>\n",
       "      <td>0.00</td>\n",
       "      <td>1000</td>\n",
       "    </tr>\n",
       "    <tr>\n",
       "      <td>2</td>\n",
       "      <td>1000_2</td>\n",
       "      <td>2018-06-11</td>\n",
       "      <td>2.85</td>\n",
       "      <td>1000</td>\n",
       "    </tr>\n",
       "    <tr>\n",
       "      <td>3</td>\n",
       "      <td>1000_3</td>\n",
       "      <td>2018-09-21</td>\n",
       "      <td>13.80</td>\n",
       "      <td>1000</td>\n",
       "    </tr>\n",
       "    <tr>\n",
       "      <td>4</td>\n",
       "      <td>1000_4</td>\n",
       "      <td>2018-12-15</td>\n",
       "      <td>5.18</td>\n",
       "      <td>1000</td>\n",
       "    </tr>\n",
       "  </tbody>\n",
       "</table>\n",
       "</div>"
      ],
      "text/plain": [
       "       id   call_date  duration  user_id\n",
       "0  1000_0  2018-07-25      0.00     1000\n",
       "1  1000_1  2018-08-17      0.00     1000\n",
       "2  1000_2  2018-06-11      2.85     1000\n",
       "3  1000_3  2018-09-21     13.80     1000\n",
       "4  1000_4  2018-12-15      5.18     1000"
      ]
     },
     "execution_count": 34,
     "metadata": {},
     "output_type": "execute_result"
    }
   ],
   "source": [
    "calls.head()"
   ]
  },
  {
   "cell_type": "markdown",
   "metadata": {},
   "source": [
    "Сразу бросается в глаза 0-ая длительность звонков. Построим гистограмму:"
   ]
  },
  {
   "cell_type": "code",
   "execution_count": 35,
   "metadata": {},
   "outputs": [
    {
     "data": {
      "image/png": "[encoded data removed]",
      "text/plain": [
       "<Figure size 432x288 with 1 Axes>"
      ]
     },
     "metadata": {
      "needs_background": "light"
     },
     "output_type": "display_data"
    }
   ],
   "source": [
    "g = 1\n",
    "myhist(20, calls['duration'], 'длительность',g, (0,40))"
   ]
  },
  {
   "cell_type": "markdown",
   "metadata": {},
   "source": [
    "Наблюдается явная ошибка регистрации длительности звонка или пропущенный звонок. Посмотрим, какой процент от всех регистрируемых звонков он составляет. Если бы не нулевой всплеск распределение бы имело форму распределения Пуассона. Посмотрим, нет ли нулевых абонентов (с нулем минут разговора) и какой процент нулевые звонки составляют от всех данных."
   ]
  },
  {
   "cell_type": "code",
   "execution_count": 36,
   "metadata": {},
   "outputs": [
    {
     "data": {
      "text/plain": [
       "1377    1760\n",
       "1168    1692\n",
       "1375    1560\n",
       "1453    1440\n",
       "1196    1240\n",
       "        ... \n",
       "1397      33\n",
       "1442      28\n",
       "1373      24\n",
       "1016      20\n",
       "1257      14\n",
       "Name: user_id, Length: 492, dtype: int64"
      ]
     },
     "execution_count": 36,
     "metadata": {},
     "output_type": "execute_result"
    }
   ],
   "source": [
    "calls.groupby('user_id')['duration'].agg('sum').sort_values()\n",
    "calls['user_id'].value_counts(dropna = False)"
   ]
  },
  {
   "cell_type": "markdown",
   "metadata": {},
   "source": [
    "Абонента с нулем звонков нет. "
   ]
  },
  {
   "cell_type": "code",
   "execution_count": 37,
   "metadata": {},
   "outputs": [
    {
     "data": {
      "text/plain": [
       "0.2"
      ]
     },
     "execution_count": 37,
     "metadata": {},
     "output_type": "execute_result"
    }
   ],
   "source": [
    "round(calls.query('duration==0')['duration'].count()/len(calls),2)"
   ]
  },
  {
   "cell_type": "markdown",
   "metadata": {},
   "source": [
    "Примерно 20% нулевых звонков из более 20 000. Как писалось выше, тут 2 возможности - либо пропущенные звонки, которые и так не на что не влияют, либо некорректно зарегистрированные данные, но тогда эти данные также не на что не влияют - компании правильно будет не учитывать эти звонки, так как в случае ошибки она понесет репутационные потери. Поэтому удаляем эти данные и рекомендуем фирме проверить механизм регистрации."
   ]
  },
  {
   "cell_type": "code",
   "execution_count": 38,
   "metadata": {},
   "outputs": [
    {
     "data": {
      "image/png": "[encoded data removed]",
      "text/plain": [
       "<Figure size 432x288 with 1 Axes>"
      ]
     },
     "metadata": {
      "needs_background": "light"
     },
     "output_type": "display_data"
    }
   ],
   "source": [
    "calls = calls.loc[calls['duration'] !=0]\n",
    "g+=1\n",
    "myhist(20, calls['duration'], 'длительность',g, (0,40))"
   ]
  },
  {
   "cell_type": "markdown",
   "metadata": {},
   "source": [
    "Распределение предстало перед нами во всей красе распределения Пуассона. \n",
    "\n",
    "Переведем столбец call_date к datetime64. Добавим столбец день и месяц звонка."
   ]
  },
  {
   "cell_type": "code",
   "execution_count": 39,
   "metadata": {
    "scrolled": false
   },
   "outputs": [
    {
     "name": "stdout",
     "output_type": "stream",
     "text": [
      "Диапазон наблюдений звонков 2018-01-01 00:00:00 - 2018-12-31 00:00:00 \n"
     ]
    }
   ],
   "source": [
    "calls['call_date'] = pd.to_datetime(calls['call_date'], format='%Y-%m-%d')\n",
    "print(f\"Диапазон наблюдений звонков {calls['call_date'].min()} - {calls['call_date'].max()} \")\n",
    "calls['month'] = (pd.DatetimeIndex(calls['call_date']).month).astype('int')\n",
    "calls['day'] = (pd.DatetimeIndex(calls['call_date']).day).astype('int')"
   ]
  },
  {
   "cell_type": "markdown",
   "metadata": {},
   "source": [
    "Диапазон согласуется с диапазоном наблюдения за users. Посчитаем для каждого пользователя количество сделанных звонков и израсходованных минут разговора по месяцам, добавим информацию в таблицу df."
   ]
  },
  {
   "cell_type": "code",
   "execution_count": 40,
   "metadata": {},
   "outputs": [],
   "source": [
    "\n",
    "m_duration = calls.groupby(['user_id', 'month'])['duration'].agg('sum').reset_index()\n",
    "df = df.merge(m_duration,on='user_id',how='left')\n",
    "df['duration'] = df['duration'].fillna(0)"
   ]
  },
  {
   "cell_type": "code",
   "execution_count": 41,
   "metadata": {
    "scrolled": false
   },
   "outputs": [
    {
     "data": {
      "text/plain": [
       "<matplotlib.axes._subplots.AxesSubplot at 0x7f9e4bebca50>"
      ]
     },
     "execution_count": 41,
     "metadata": {},
     "output_type": "execute_result"
    },
    {
     "data": {
      "image/png": "[encoded data removed]",
      "text/plain": [
       "<Figure size 1152x576 with 1 Axes>"
      ]
     },
     "metadata": {
      "needs_background": "light"
     },
     "output_type": "display_data"
    }
   ],
   "source": [
    "gr = 1\n",
    "m_duration.groupby('month')['duration'].agg('sum').plot(x='month', y='duration', xlim =(0,15),figsize=(16, 8), title = f'График {gr}: длительность разговоров всех абонентов по месяцам')\n",
    "\n",
    "calls.groupby('month')['user_id'].agg('count').plot(x='month', y='duration',grid=True)"
   ]
  },
  {
   "cell_type": "markdown",
   "metadata": {},
   "source": [
    "С увелечением колличества звонков растет и колличество израсходованных минут. Но идет круче, т.е. те, кто звонит чаще и говорит дольше."
   ]
  },
  {
   "cell_type": "markdown",
   "metadata": {},
   "source": [
    "### messages"
   ]
  },
  {
   "cell_type": "code",
   "execution_count": 42,
   "metadata": {},
   "outputs": [
    {
     "data": {
      "text/html": [
       "<div>\n",
       "<style scoped>\n",
       "    .dataframe tbody tr th:only-of-type {\n",
       "        vertical-align: middle;\n",
       "    }\n",
       "\n",
       "    .dataframe tbody tr th {\n",
       "        vertical-align: top;\n",
       "    }\n",
       "\n",
       "    .dataframe thead th {\n",
       "        text-align: right;\n",
       "    }\n",
       "</style>\n",
       "<table border=\"1\" class=\"dataframe\">\n",
       "  <thead>\n",
       "    <tr style=\"text-align: right;\">\n",
       "      <th></th>\n",
       "      <th>id</th>\n",
       "      <th>message_date</th>\n",
       "      <th>user_id</th>\n",
       "    </tr>\n",
       "  </thead>\n",
       "  <tbody>\n",
       "    <tr>\n",
       "      <td>0</td>\n",
       "      <td>1000_0</td>\n",
       "      <td>2018-06-27</td>\n",
       "      <td>1000</td>\n",
       "    </tr>\n",
       "    <tr>\n",
       "      <td>1</td>\n",
       "      <td>1000_1</td>\n",
       "      <td>2018-10-08</td>\n",
       "      <td>1000</td>\n",
       "    </tr>\n",
       "    <tr>\n",
       "      <td>2</td>\n",
       "      <td>1000_2</td>\n",
       "      <td>2018-08-04</td>\n",
       "      <td>1000</td>\n",
       "    </tr>\n",
       "    <tr>\n",
       "      <td>3</td>\n",
       "      <td>1000_3</td>\n",
       "      <td>2018-06-16</td>\n",
       "      <td>1000</td>\n",
       "    </tr>\n",
       "    <tr>\n",
       "      <td>4</td>\n",
       "      <td>1000_4</td>\n",
       "      <td>2018-12-05</td>\n",
       "      <td>1000</td>\n",
       "    </tr>\n",
       "  </tbody>\n",
       "</table>\n",
       "</div>"
      ],
      "text/plain": [
       "       id message_date  user_id\n",
       "0  1000_0   2018-06-27     1000\n",
       "1  1000_1   2018-10-08     1000\n",
       "2  1000_2   2018-08-04     1000\n",
       "3  1000_3   2018-06-16     1000\n",
       "4  1000_4   2018-12-05     1000"
      ]
     },
     "execution_count": 42,
     "metadata": {},
     "output_type": "execute_result"
    }
   ],
   "source": [
    "messages.head()"
   ]
  },
  {
   "cell_type": "code",
   "execution_count": 43,
   "metadata": {},
   "outputs": [],
   "source": [
    "messages['message_date'] = pd.to_datetime(messages['message_date'], format='%Y-%m-%d')\n",
    "messages['month'] = pd.DatetimeIndex(messages['message_date']).month\n",
    "m_messages = messages.groupby(['user_id', 'month'])['id'].agg('count').reset_index()\n",
    "m_messages.rename(index=str, columns={\"id\": \"messages_used\"}, inplace=True)\n",
    "\n",
    "df = df.merge(m_messages,on=['user_id', 'month'],how='left')\n",
    "df['messages_used'] = df['messages_used'].fillna(0)"
   ]
  },
  {
   "cell_type": "markdown",
   "metadata": {},
   "source": [
    "### internet"
   ]
  },
  {
   "cell_type": "code",
   "execution_count": 44,
   "metadata": {},
   "outputs": [
    {
     "data": {
      "text/html": [
       "<div>\n",
       "<style scoped>\n",
       "    .dataframe tbody tr th:only-of-type {\n",
       "        vertical-align: middle;\n",
       "    }\n",
       "\n",
       "    .dataframe tbody tr th {\n",
       "        vertical-align: top;\n",
       "    }\n",
       "\n",
       "    .dataframe thead th {\n",
       "        text-align: right;\n",
       "    }\n",
       "</style>\n",
       "<table border=\"1\" class=\"dataframe\">\n",
       "  <thead>\n",
       "    <tr style=\"text-align: right;\">\n",
       "      <th></th>\n",
       "      <th>Unnamed: 0</th>\n",
       "      <th>id</th>\n",
       "      <th>mb_used</th>\n",
       "      <th>session_date</th>\n",
       "      <th>user_id</th>\n",
       "    </tr>\n",
       "  </thead>\n",
       "  <tbody>\n",
       "    <tr>\n",
       "      <td>0</td>\n",
       "      <td>0</td>\n",
       "      <td>1000_0</td>\n",
       "      <td>112.95</td>\n",
       "      <td>2018-11-25</td>\n",
       "      <td>1000</td>\n",
       "    </tr>\n",
       "    <tr>\n",
       "      <td>1</td>\n",
       "      <td>1</td>\n",
       "      <td>1000_1</td>\n",
       "      <td>1052.81</td>\n",
       "      <td>2018-09-07</td>\n",
       "      <td>1000</td>\n",
       "    </tr>\n",
       "    <tr>\n",
       "      <td>2</td>\n",
       "      <td>2</td>\n",
       "      <td>1000_2</td>\n",
       "      <td>1197.26</td>\n",
       "      <td>2018-06-25</td>\n",
       "      <td>1000</td>\n",
       "    </tr>\n",
       "    <tr>\n",
       "      <td>3</td>\n",
       "      <td>3</td>\n",
       "      <td>1000_3</td>\n",
       "      <td>550.27</td>\n",
       "      <td>2018-08-22</td>\n",
       "      <td>1000</td>\n",
       "    </tr>\n",
       "    <tr>\n",
       "      <td>4</td>\n",
       "      <td>4</td>\n",
       "      <td>1000_4</td>\n",
       "      <td>302.56</td>\n",
       "      <td>2018-09-24</td>\n",
       "      <td>1000</td>\n",
       "    </tr>\n",
       "  </tbody>\n",
       "</table>\n",
       "</div>"
      ],
      "text/plain": [
       "   Unnamed: 0      id  mb_used session_date  user_id\n",
       "0           0  1000_0   112.95   2018-11-25     1000\n",
       "1           1  1000_1  1052.81   2018-09-07     1000\n",
       "2           2  1000_2  1197.26   2018-06-25     1000\n",
       "3           3  1000_3   550.27   2018-08-22     1000\n",
       "4           4  1000_4   302.56   2018-09-24     1000"
      ]
     },
     "execution_count": 44,
     "metadata": {},
     "output_type": "execute_result"
    }
   ],
   "source": [
    "internet.head()"
   ]
  },
  {
   "cell_type": "code",
   "execution_count": 45,
   "metadata": {},
   "outputs": [],
   "source": [
    "internet['session_date'] = pd.to_datetime(internet['session_date'], format='%Y-%m-%d')\n",
    "internet['month'] = pd.DatetimeIndex(internet['session_date']).month\n",
    "m_internet = internet.groupby(['user_id', 'month'])['mb_used'].agg('sum').reset_index()\n",
    "df = df.merge(m_internet,on=['user_id', 'month'],how='left')\n",
    "df['mb_used'] = df['mb_used'].fillna(0)\n"
   ]
  },
  {
   "cell_type": "markdown",
   "metadata": {},
   "source": [
    "### tariffs"
   ]
  },
  {
   "cell_type": "code",
   "execution_count": 46,
   "metadata": {},
   "outputs": [
    {
     "data": {
      "text/html": [
       "<div>\n",
       "<style scoped>\n",
       "    .dataframe tbody tr th:only-of-type {\n",
       "        vertical-align: middle;\n",
       "    }\n",
       "\n",
       "    .dataframe tbody tr th {\n",
       "        vertical-align: top;\n",
       "    }\n",
       "\n",
       "    .dataframe thead th {\n",
       "        text-align: right;\n",
       "    }\n",
       "</style>\n",
       "<table border=\"1\" class=\"dataframe\">\n",
       "  <thead>\n",
       "    <tr style=\"text-align: right;\">\n",
       "      <th></th>\n",
       "      <th>messages_included</th>\n",
       "      <th>mb_per_month_included</th>\n",
       "      <th>minutes_included</th>\n",
       "      <th>rub_monthly_fee</th>\n",
       "      <th>rub_per_gb</th>\n",
       "      <th>rub_per_message</th>\n",
       "      <th>rub_per_minute</th>\n",
       "      <th>tariff_name</th>\n",
       "    </tr>\n",
       "  </thead>\n",
       "  <tbody>\n",
       "    <tr>\n",
       "      <td>0</td>\n",
       "      <td>50</td>\n",
       "      <td>15360</td>\n",
       "      <td>500</td>\n",
       "      <td>550</td>\n",
       "      <td>200</td>\n",
       "      <td>3</td>\n",
       "      <td>3</td>\n",
       "      <td>smart</td>\n",
       "    </tr>\n",
       "    <tr>\n",
       "      <td>1</td>\n",
       "      <td>1000</td>\n",
       "      <td>30720</td>\n",
       "      <td>3000</td>\n",
       "      <td>1950</td>\n",
       "      <td>150</td>\n",
       "      <td>1</td>\n",
       "      <td>1</td>\n",
       "      <td>ultra</td>\n",
       "    </tr>\n",
       "  </tbody>\n",
       "</table>\n",
       "</div>"
      ],
      "text/plain": [
       "   messages_included  mb_per_month_included  minutes_included  \\\n",
       "0                 50                  15360               500   \n",
       "1               1000                  30720              3000   \n",
       "\n",
       "   rub_monthly_fee  rub_per_gb  rub_per_message  rub_per_minute tariff_name  \n",
       "0              550         200                3               3       smart  \n",
       "1             1950         150                1               1       ultra  "
      ]
     },
     "execution_count": 46,
     "metadata": {},
     "output_type": "execute_result"
    }
   ],
   "source": [
    "tariffs.head()"
   ]
  },
  {
   "cell_type": "markdown",
   "metadata": {},
   "source": [
    "Ошибок не нашлось, ничего переводить не надо. Объединим информацию о трафике в общую таблицу для удобства рассчета."
   ]
  },
  {
   "cell_type": "code",
   "execution_count": 47,
   "metadata": {},
   "outputs": [
    {
     "data": {
      "text/html": [
       "<div>\n",
       "<style scoped>\n",
       "    .dataframe tbody tr th:only-of-type {\n",
       "        vertical-align: middle;\n",
       "    }\n",
       "\n",
       "    .dataframe tbody tr th {\n",
       "        vertical-align: top;\n",
       "    }\n",
       "\n",
       "    .dataframe thead th {\n",
       "        text-align: right;\n",
       "    }\n",
       "</style>\n",
       "<table border=\"1\" class=\"dataframe\">\n",
       "  <thead>\n",
       "    <tr style=\"text-align: right;\">\n",
       "      <th></th>\n",
       "      <th>user_id</th>\n",
       "      <th>age</th>\n",
       "      <th>churn_date</th>\n",
       "      <th>city</th>\n",
       "      <th>reg_date</th>\n",
       "      <th>tariff</th>\n",
       "      <th>month</th>\n",
       "      <th>duration</th>\n",
       "      <th>messages_used</th>\n",
       "      <th>mb_used</th>\n",
       "      <th>messages_included</th>\n",
       "      <th>mb_per_month_included</th>\n",
       "      <th>minutes_included</th>\n",
       "      <th>rub_monthly_fee</th>\n",
       "      <th>rub_per_gb</th>\n",
       "      <th>rub_per_message</th>\n",
       "      <th>rub_per_minute</th>\n",
       "    </tr>\n",
       "  </thead>\n",
       "  <tbody>\n",
       "    <tr>\n",
       "      <td>0</td>\n",
       "      <td>1000</td>\n",
       "      <td>52</td>\n",
       "      <td>NaT</td>\n",
       "      <td>Другой</td>\n",
       "      <td>2018-05-25</td>\n",
       "      <td>ultra</td>\n",
       "      <td>5.0</td>\n",
       "      <td>150.06</td>\n",
       "      <td>22.0</td>\n",
       "      <td>2253.49</td>\n",
       "      <td>1000</td>\n",
       "      <td>30720</td>\n",
       "      <td>3000</td>\n",
       "      <td>1950</td>\n",
       "      <td>150</td>\n",
       "      <td>1</td>\n",
       "      <td>1</td>\n",
       "    </tr>\n",
       "    <tr>\n",
       "      <td>1</td>\n",
       "      <td>1000</td>\n",
       "      <td>52</td>\n",
       "      <td>NaT</td>\n",
       "      <td>Другой</td>\n",
       "      <td>2018-05-25</td>\n",
       "      <td>ultra</td>\n",
       "      <td>6.0</td>\n",
       "      <td>158.90</td>\n",
       "      <td>60.0</td>\n",
       "      <td>23233.77</td>\n",
       "      <td>1000</td>\n",
       "      <td>30720</td>\n",
       "      <td>3000</td>\n",
       "      <td>1950</td>\n",
       "      <td>150</td>\n",
       "      <td>1</td>\n",
       "      <td>1</td>\n",
       "    </tr>\n",
       "    <tr>\n",
       "      <td>2</td>\n",
       "      <td>1000</td>\n",
       "      <td>52</td>\n",
       "      <td>NaT</td>\n",
       "      <td>Другой</td>\n",
       "      <td>2018-05-25</td>\n",
       "      <td>ultra</td>\n",
       "      <td>7.0</td>\n",
       "      <td>318.80</td>\n",
       "      <td>75.0</td>\n",
       "      <td>14003.64</td>\n",
       "      <td>1000</td>\n",
       "      <td>30720</td>\n",
       "      <td>3000</td>\n",
       "      <td>1950</td>\n",
       "      <td>150</td>\n",
       "      <td>1</td>\n",
       "      <td>1</td>\n",
       "    </tr>\n",
       "    <tr>\n",
       "      <td>3</td>\n",
       "      <td>1000</td>\n",
       "      <td>52</td>\n",
       "      <td>NaT</td>\n",
       "      <td>Другой</td>\n",
       "      <td>2018-05-25</td>\n",
       "      <td>ultra</td>\n",
       "      <td>8.0</td>\n",
       "      <td>389.87</td>\n",
       "      <td>81.0</td>\n",
       "      <td>14055.93</td>\n",
       "      <td>1000</td>\n",
       "      <td>30720</td>\n",
       "      <td>3000</td>\n",
       "      <td>1950</td>\n",
       "      <td>150</td>\n",
       "      <td>1</td>\n",
       "      <td>1</td>\n",
       "    </tr>\n",
       "    <tr>\n",
       "      <td>4</td>\n",
       "      <td>1000</td>\n",
       "      <td>52</td>\n",
       "      <td>NaT</td>\n",
       "      <td>Другой</td>\n",
       "      <td>2018-05-25</td>\n",
       "      <td>ultra</td>\n",
       "      <td>9.0</td>\n",
       "      <td>440.14</td>\n",
       "      <td>57.0</td>\n",
       "      <td>14568.91</td>\n",
       "      <td>1000</td>\n",
       "      <td>30720</td>\n",
       "      <td>3000</td>\n",
       "      <td>1950</td>\n",
       "      <td>150</td>\n",
       "      <td>1</td>\n",
       "      <td>1</td>\n",
       "    </tr>\n",
       "    <tr>\n",
       "      <td>...</td>\n",
       "      <td>...</td>\n",
       "      <td>...</td>\n",
       "      <td>...</td>\n",
       "      <td>...</td>\n",
       "      <td>...</td>\n",
       "      <td>...</td>\n",
       "      <td>...</td>\n",
       "      <td>...</td>\n",
       "      <td>...</td>\n",
       "      <td>...</td>\n",
       "      <td>...</td>\n",
       "      <td>...</td>\n",
       "      <td>...</td>\n",
       "      <td>...</td>\n",
       "      <td>...</td>\n",
       "      <td>...</td>\n",
       "      <td>...</td>\n",
       "    </tr>\n",
       "    <tr>\n",
       "      <td>3171</td>\n",
       "      <td>1498</td>\n",
       "      <td>68</td>\n",
       "      <td>2018-10-25</td>\n",
       "      <td>Другой</td>\n",
       "      <td>2018-07-19</td>\n",
       "      <td>smart</td>\n",
       "      <td>10.0</td>\n",
       "      <td>232.63</td>\n",
       "      <td>42.0</td>\n",
       "      <td>20579.36</td>\n",
       "      <td>50</td>\n",
       "      <td>15360</td>\n",
       "      <td>500</td>\n",
       "      <td>550</td>\n",
       "      <td>200</td>\n",
       "      <td>3</td>\n",
       "      <td>3</td>\n",
       "    </tr>\n",
       "    <tr>\n",
       "      <td>3172</td>\n",
       "      <td>1499</td>\n",
       "      <td>35</td>\n",
       "      <td>NaT</td>\n",
       "      <td>Другой</td>\n",
       "      <td>2018-09-27</td>\n",
       "      <td>smart</td>\n",
       "      <td>9.0</td>\n",
       "      <td>64.65</td>\n",
       "      <td>11.0</td>\n",
       "      <td>1845.75</td>\n",
       "      <td>50</td>\n",
       "      <td>15360</td>\n",
       "      <td>500</td>\n",
       "      <td>550</td>\n",
       "      <td>200</td>\n",
       "      <td>3</td>\n",
       "      <td>3</td>\n",
       "    </tr>\n",
       "    <tr>\n",
       "      <td>3173</td>\n",
       "      <td>1499</td>\n",
       "      <td>35</td>\n",
       "      <td>NaT</td>\n",
       "      <td>Другой</td>\n",
       "      <td>2018-09-27</td>\n",
       "      <td>smart</td>\n",
       "      <td>10.0</td>\n",
       "      <td>429.91</td>\n",
       "      <td>48.0</td>\n",
       "      <td>17788.51</td>\n",
       "      <td>50</td>\n",
       "      <td>15360</td>\n",
       "      <td>500</td>\n",
       "      <td>550</td>\n",
       "      <td>200</td>\n",
       "      <td>3</td>\n",
       "      <td>3</td>\n",
       "    </tr>\n",
       "    <tr>\n",
       "      <td>3174</td>\n",
       "      <td>1499</td>\n",
       "      <td>35</td>\n",
       "      <td>NaT</td>\n",
       "      <td>Другой</td>\n",
       "      <td>2018-09-27</td>\n",
       "      <td>smart</td>\n",
       "      <td>11.0</td>\n",
       "      <td>576.50</td>\n",
       "      <td>59.0</td>\n",
       "      <td>17963.31</td>\n",
       "      <td>50</td>\n",
       "      <td>15360</td>\n",
       "      <td>500</td>\n",
       "      <td>550</td>\n",
       "      <td>200</td>\n",
       "      <td>3</td>\n",
       "      <td>3</td>\n",
       "    </tr>\n",
       "    <tr>\n",
       "      <td>3175</td>\n",
       "      <td>1499</td>\n",
       "      <td>35</td>\n",
       "      <td>NaT</td>\n",
       "      <td>Другой</td>\n",
       "      <td>2018-09-27</td>\n",
       "      <td>smart</td>\n",
       "      <td>12.0</td>\n",
       "      <td>465.16</td>\n",
       "      <td>66.0</td>\n",
       "      <td>13055.58</td>\n",
       "      <td>50</td>\n",
       "      <td>15360</td>\n",
       "      <td>500</td>\n",
       "      <td>550</td>\n",
       "      <td>200</td>\n",
       "      <td>3</td>\n",
       "      <td>3</td>\n",
       "    </tr>\n",
       "  </tbody>\n",
       "</table>\n",
       "<p>3176 rows × 17 columns</p>\n",
       "</div>"
      ],
      "text/plain": [
       "      user_id  age churn_date    city   reg_date tariff  month  duration  \\\n",
       "0        1000   52        NaT  Другой 2018-05-25  ultra    5.0    150.06   \n",
       "1        1000   52        NaT  Другой 2018-05-25  ultra    6.0    158.90   \n",
       "2        1000   52        NaT  Другой 2018-05-25  ultra    7.0    318.80   \n",
       "3        1000   52        NaT  Другой 2018-05-25  ultra    8.0    389.87   \n",
       "4        1000   52        NaT  Другой 2018-05-25  ultra    9.0    440.14   \n",
       "...       ...  ...        ...     ...        ...    ...    ...       ...   \n",
       "3171     1498   68 2018-10-25  Другой 2018-07-19  smart   10.0    232.63   \n",
       "3172     1499   35        NaT  Другой 2018-09-27  smart    9.0     64.65   \n",
       "3173     1499   35        NaT  Другой 2018-09-27  smart   10.0    429.91   \n",
       "3174     1499   35        NaT  Другой 2018-09-27  smart   11.0    576.50   \n",
       "3175     1499   35        NaT  Другой 2018-09-27  smart   12.0    465.16   \n",
       "\n",
       "      messages_used   mb_used  messages_included  mb_per_month_included  \\\n",
       "0              22.0   2253.49               1000                  30720   \n",
       "1              60.0  23233.77               1000                  30720   \n",
       "2              75.0  14003.64               1000                  30720   \n",
       "3              81.0  14055.93               1000                  30720   \n",
       "4              57.0  14568.91               1000                  30720   \n",
       "...             ...       ...                ...                    ...   \n",
       "3171           42.0  20579.36                 50                  15360   \n",
       "3172           11.0   1845.75                 50                  15360   \n",
       "3173           48.0  17788.51                 50                  15360   \n",
       "3174           59.0  17963.31                 50                  15360   \n",
       "3175           66.0  13055.58                 50                  15360   \n",
       "\n",
       "      minutes_included  rub_monthly_fee  rub_per_gb  rub_per_message  \\\n",
       "0                 3000             1950         150                1   \n",
       "1                 3000             1950         150                1   \n",
       "2                 3000             1950         150                1   \n",
       "3                 3000             1950         150                1   \n",
       "4                 3000             1950         150                1   \n",
       "...                ...              ...         ...              ...   \n",
       "3171               500              550         200                3   \n",
       "3172               500              550         200                3   \n",
       "3173               500              550         200                3   \n",
       "3174               500              550         200                3   \n",
       "3175               500              550         200                3   \n",
       "\n",
       "      rub_per_minute  \n",
       "0                  1  \n",
       "1                  1  \n",
       "2                  1  \n",
       "3                  1  \n",
       "4                  1  \n",
       "...              ...  \n",
       "3171               3  \n",
       "3172               3  \n",
       "3173               3  \n",
       "3174               3  \n",
       "3175               3  \n",
       "\n",
       "[3176 rows x 17 columns]"
      ]
     },
     "execution_count": 47,
     "metadata": {},
     "output_type": "execute_result"
    }
   ],
   "source": [
    "tariffs.rename(index=str, columns={\"tariff_name\": \"tariff\"}, inplace=True)\n",
    "df = df.merge(tariffs,on='tariff',how='left')\n",
    "df"
   ]
  },
  {
   "cell_type": "markdown",
   "metadata": {},
   "source": [
    "Добавим помесячную выручку с каждого пользователя "
   ]
  },
  {
   "cell_type": "code",
   "execution_count": 48,
   "metadata": {},
   "outputs": [],
   "source": [
    "not_ink = {'duration':['minutes_included','minutes_not_included'], 'mb_used':['mb_per_month_included','gb_not_included'], 'messages_used':['messages_included','messages_not_included']}\n",
    "for x,y in not_ink.items():\n",
    "    if y[1] != 'gb_not_included':\n",
    "        df[y[1]] =df[x] - df[y[0]]\n",
    "        df.loc[df[y[1]] < 0,y[1]] = 0\n",
    "        df[y[1]] = df[y[1]].apply(np.trunc)\n",
    "    else:\n",
    "        df[y[1]] = (df[x] - df[y[0]])/1024\n",
    "        df[y[1]] = df[y[1]].apply(np.trunc) \n",
    "        df.loc[df[y[1]] < 0,y[1]] = 0\n",
    "\n",
    "\n",
    "# rub_per_gb — стоимость дополнительного гигабайта интернет-трафика сверх тарифного пакета (1 гигабайт = 1024 мегабайта), поэтому трафик интернета сверх делим на 1024 и округляем в большую сторону\n",
    "\n",
    "df['revenue_per_month'] =  df['minutes_not_included']*df['rub_per_minute'] + df['gb_not_included']*df['rub_per_gb'] + df['messages_not_included']*df['rub_per_message'] + df['rub_monthly_fee']\n"
   ]
  },
  {
   "cell_type": "markdown",
   "metadata": {},
   "source": [
    "### Вывод\n",
    "Для дальнейшего анализа мы из таблицы calls удалили звонки длительностью 0. Во всех таблицах перевели дату в формат datetime64. Для каждого клиента мы расписали активность по месяцам и ежемесячные траты."
   ]
  },
  {
   "cell_type": "markdown",
   "metadata": {},
   "source": [
    "## Шаг 3. Проанализируйте данные"
   ]
  },
  {
   "cell_type": "code",
   "execution_count": 105,
   "metadata": {},
   "outputs": [
    {
     "name": "stdout",
     "output_type": "stream",
     "text": [
      "пользователей smart: 2223 ultra: 953\n"
     ]
    }
   ],
   "source": [
    "smart = df.query('tariff == \"smart\"')\n",
    "ultra = df.query('tariff == \"ultra\"')\n",
    "print(f'пользователей smart: {len(smart)} ultra: {len(ultra)}')"
   ]
  },
  {
   "cell_type": "markdown",
   "metadata": {},
   "source": [
    "Построим гистограммы использования услуг и помесячной платы."
   ]
  },
  {
   "cell_type": "code",
   "execution_count": 49,
   "metadata": {
    "scrolled": false
   },
   "outputs": [
    {
     "data": {
      "image/png": "[encoded data removed]",
      "text/plain": [
       "<Figure size 1152x576 with 4 Axes>"
      ]
     },
     "metadata": {
      "needs_background": "light"
     },
     "output_type": "display_data"
    }
   ],
   "source": [
    "plt.figure(figsize=(16, 8))\n",
    "plt.subplots_adjust(right=0.95, bottom=0.1, top=0.9, hspace=0.3) \n",
    "\n",
    "\n",
    "ax = plt.subplot(221)\n",
    "g += 1\n",
    "myhist(50, smart['duration'], 'длительность разговоров в месяц',g, (225,1500))\n",
    "ultra['duration'].hist(bins = 50, alpha = 0.8,range = (225,1500))\n",
    "plt.legend([\"smart, lim - 500\", \"ultra, lim - 3000\"])\n",
    "plt.axvline(500, color = '#33DDFF', linestyle = '--')\n",
    "\n",
    "plt.axvline(smart['duration'].mean(), color = '#FB7200')\n",
    "plt.axvline(ultra['duration'].mean(), color = '#33DDFF')\n",
    "\n",
    "ax = plt.subplot(222)\n",
    "g += 1\n",
    "myhist(50, smart['mb_used'], 'трафик интернета в месяц в Мб',g, (0,40000))\n",
    "ultra['mb_used'].hist(bins = 50, alpha = 0.8,range = (0,40000))\n",
    "plt.legend([\"smart, lim - 15360\", \"ultra, lim - 30720\"])\n",
    "plt.axvline(30720, color = '#FB7200', linestyle = '--')\n",
    "plt.axvline(15360, color = '#33DDFF', linestyle = '--')\n",
    "plt.axvline(smart['mb_used'].mean(), color = '#FB7200')\n",
    "plt.axvline(ultra['mb_used'].mean(), color = '#33DDFF')\n",
    "\n",
    "\n",
    "ax = plt.subplot(223)\n",
    "g += 1\n",
    "myhist(30,smart['messages_used'], 'сообщений в месяц',g, (0,200))\n",
    "ultra['messages_used'].hist(bins = 30, alpha = 0.8,range = (0,200))\n",
    "plt.legend([\"smart, lim - 50\", \"ultra, lim - 1000\"])\n",
    "plt.axvline(50, color = '#33DDFF', linestyle = '--')\n",
    "plt.axvline(smart['messages_used'].mean(), color = '#FB7200')\n",
    "plt.axvline(ultra['messages_used'].mean(), color = '#33DDFF')\n",
    "\n",
    "ax = plt.subplot(224)\n",
    "g += 1\n",
    "myhist(30, smart['revenue_per_month'], 'траты в месяц',g, (500,3000))\n",
    "ultra['revenue_per_month'].hist(bins = 30, alpha = 0.8,range = (500,3000))\n",
    "plt.legend([\"smart, cost - 550\", \"ultra, cost - 1950\"])\n",
    "plt.axvline(1950, color = '#FB7200', linestyle = '--')\n",
    "plt.axvline(550, color = '#33DDFF', linestyle = '--')\n",
    "plt.axvline(ultra['revenue_per_month'].mean(), color = '#FB7200')\n",
    "plt.axvline(smart['revenue_per_month'].mean(), color = '#33DDFF')\n",
    "plt.show()\n",
    "\n"
   ]
  },
  {
   "cell_type": "markdown",
   "metadata": {},
   "source": [
    "Прерывистая линия - лимит, сплошная - среднее.\n",
    "\n",
    "У smart более \"правильное\" распределение длительности звонков, выглядещее как распределение Пуассона, потому что пользователей больше. Трафик интернета выглядит, как Гауссовское распределение - видимо, не всех интересует сеть в одинаковой степени.\n",
    "\n",
    "Многие пользователи не пользуются сообщениями вообще. Средние траты пользователей smart обычно в 2 раза больше стоимости тарифа. ultra в среднем платят чуть больше за связь, чем стоимость их пакета."
   ]
  },
  {
   "cell_type": "code",
   "execution_count": 50,
   "metadata": {},
   "outputs": [
    {
     "name": "stdout",
     "output_type": "stream",
     "text": [
      "процент укладывющихся в smart - длительность: 72 %, интернет-трафик:42 %, сообшений:75 %, ежемесячную плату:30 % \n",
      "процент укладывющихся в ultra - длительность: 100 %, интернет-трафик:87 %, сообшений:100 %, ежемесячную плату:88 %\n"
     ]
    }
   ],
   "source": [
    "def my_proc(part, p100):\n",
    "    m = round(part / p100 * 100)\n",
    "    return m\n",
    "\n",
    "s_d = my_proc(smart.query('duration <= 500')['duration'].count(),len(smart))\n",
    "s_i = my_proc(smart.query('mb_used <= 15360')['mb_used'].count(),len(smart))\n",
    "s_m = my_proc(smart.query('messages_used <= 50')['messages_used'].count(),len(smart))\n",
    "s_r = my_proc(smart.query('revenue_per_month <= 550')['revenue_per_month'].count(),len(smart))\n",
    "\n",
    "u_d = my_proc(ultra.query('duration <= 3000')['duration'].count(),len(ultra))\n",
    "u_i = my_proc(ultra.query('mb_used <= 30720')['mb_used'].count(),len(ultra))\n",
    "u_m = my_proc(ultra.query('messages_used <= 1000')['messages_used'].count(),len(ultra))\n",
    "u_r = my_proc(ultra.query('revenue_per_month <= 1950')['revenue_per_month'].count(),len(ultra))\n",
    "print(f'процент укладывющихся в smart - длительность: \\\n",
    "{s_d} %, \\\n",
    "интернет-трафик:\\\n",
    "{s_i} %, \\\n",
    "сообшений:\\\n",
    "{s_m} %, \\\n",
    "ежемесячную плату:\\\n",
    "{s_r} % \\n\\\n",
    "процент укладывющихся в ultra - длительность: \\\n",
    "{u_d} %, \\\n",
    "интернет-трафик:\\\n",
    "{u_i} %, \\\n",
    "сообшений:\\\n",
    "{u_m} %, \\\n",
    "ежемесячную плату:\\\n",
    "{u_r} %')\n"
   ]
  },
  {
   "cell_type": "markdown",
   "metadata": {},
   "source": [
    "В 2018-м году особенно тяжело уложиться в интернет-трафик. Пользователи использую еще какие-то услуги, кроме изучаемых (видно по ситуациеи с ultra). Но процент использования других услуг в нашей выборке незначителен.\n",
    "\n",
    "В ultra укладываются почти все пользователи, smart докупает активно интернет-трафик."
   ]
  },
  {
   "cell_type": "code",
   "execution_count": 51,
   "metadata": {},
   "outputs": [
    {
     "data": {
      "text/html": [
       "<div>\n",
       "<style scoped>\n",
       "    .dataframe tbody tr th:only-of-type {\n",
       "        vertical-align: middle;\n",
       "    }\n",
       "\n",
       "    .dataframe tbody tr th {\n",
       "        vertical-align: top;\n",
       "    }\n",
       "\n",
       "    .dataframe thead th {\n",
       "        text-align: right;\n",
       "    }\n",
       "</style>\n",
       "<table border=\"1\" class=\"dataframe\">\n",
       "  <thead>\n",
       "    <tr style=\"text-align: right;\">\n",
       "      <th></th>\n",
       "      <th>user_id</th>\n",
       "      <th>age</th>\n",
       "      <th>month</th>\n",
       "      <th>duration</th>\n",
       "      <th>messages_used</th>\n",
       "      <th>mb_used</th>\n",
       "      <th>messages_included</th>\n",
       "      <th>mb_per_month_included</th>\n",
       "      <th>minutes_included</th>\n",
       "      <th>rub_monthly_fee</th>\n",
       "      <th>rub_per_gb</th>\n",
       "      <th>rub_per_message</th>\n",
       "      <th>rub_per_minute</th>\n",
       "      <th>minutes_not_included</th>\n",
       "      <th>gb_not_included</th>\n",
       "      <th>messages_not_included</th>\n",
       "      <th>revenue_per_month</th>\n",
       "    </tr>\n",
       "  </thead>\n",
       "  <tbody>\n",
       "    <tr>\n",
       "      <td>count</td>\n",
       "      <td>3176.000000</td>\n",
       "      <td>3176.000000</td>\n",
       "      <td>3168.000000</td>\n",
       "      <td>3176.000000</td>\n",
       "      <td>3176.000000</td>\n",
       "      <td>3176.000000</td>\n",
       "      <td>3176.000000</td>\n",
       "      <td>3176.000000</td>\n",
       "      <td>3176.000000</td>\n",
       "      <td>3176.000000</td>\n",
       "      <td>3176.000000</td>\n",
       "      <td>3176.000000</td>\n",
       "      <td>3176.000000</td>\n",
       "      <td>3176.000000</td>\n",
       "      <td>3176.000000</td>\n",
       "      <td>3176.000000</td>\n",
       "      <td>3176.000000</td>\n",
       "    </tr>\n",
       "    <tr>\n",
       "      <td>mean</td>\n",
       "      <td>1251.542191</td>\n",
       "      <td>46.672859</td>\n",
       "      <td>8.317551</td>\n",
       "      <td>430.979232</td>\n",
       "      <td>37.890113</td>\n",
       "      <td>17142.146943</td>\n",
       "      <td>335.059824</td>\n",
       "      <td>19968.967254</td>\n",
       "      <td>1250.157431</td>\n",
       "      <td>970.088161</td>\n",
       "      <td>184.996851</td>\n",
       "      <td>2.399874</td>\n",
       "      <td>2.399874</td>\n",
       "      <td>21.427582</td>\n",
       "      <td>1.884446</td>\n",
       "      <td>4.070529</td>\n",
       "      <td>1413.411839</td>\n",
       "    </tr>\n",
       "    <tr>\n",
       "      <td>std</td>\n",
       "      <td>144.597802</td>\n",
       "      <td>16.566365</td>\n",
       "      <td>2.907181</td>\n",
       "      <td>225.103579</td>\n",
       "      <td>35.480888</td>\n",
       "      <td>7594.265024</td>\n",
       "      <td>435.439352</td>\n",
       "      <td>7040.366790</td>\n",
       "      <td>1145.893032</td>\n",
       "      <td>641.700098</td>\n",
       "      <td>22.917861</td>\n",
       "      <td>0.916714</td>\n",
       "      <td>0.916714</td>\n",
       "      <td>61.259138</td>\n",
       "      <td>3.178897</td>\n",
       "      <td>11.569117</td>\n",
       "      <td>769.092888</td>\n",
       "    </tr>\n",
       "    <tr>\n",
       "      <td>min</td>\n",
       "      <td>1000.000000</td>\n",
       "      <td>18.000000</td>\n",
       "      <td>1.000000</td>\n",
       "      <td>0.000000</td>\n",
       "      <td>0.000000</td>\n",
       "      <td>0.000000</td>\n",
       "      <td>50.000000</td>\n",
       "      <td>15360.000000</td>\n",
       "      <td>500.000000</td>\n",
       "      <td>550.000000</td>\n",
       "      <td>150.000000</td>\n",
       "      <td>1.000000</td>\n",
       "      <td>1.000000</td>\n",
       "      <td>0.000000</td>\n",
       "      <td>0.000000</td>\n",
       "      <td>0.000000</td>\n",
       "      <td>550.000000</td>\n",
       "    </tr>\n",
       "    <tr>\n",
       "      <td>25%</td>\n",
       "      <td>1126.000000</td>\n",
       "      <td>32.000000</td>\n",
       "      <td>6.000000</td>\n",
       "      <td>273.425000</td>\n",
       "      <td>9.000000</td>\n",
       "      <td>12453.752500</td>\n",
       "      <td>50.000000</td>\n",
       "      <td>15360.000000</td>\n",
       "      <td>500.000000</td>\n",
       "      <td>550.000000</td>\n",
       "      <td>150.000000</td>\n",
       "      <td>1.000000</td>\n",
       "      <td>1.000000</td>\n",
       "      <td>0.000000</td>\n",
       "      <td>0.000000</td>\n",
       "      <td>0.000000</td>\n",
       "      <td>612.250000</td>\n",
       "    </tr>\n",
       "    <tr>\n",
       "      <td>50%</td>\n",
       "      <td>1254.000000</td>\n",
       "      <td>46.000000</td>\n",
       "      <td>9.000000</td>\n",
       "      <td>420.615000</td>\n",
       "      <td>30.000000</td>\n",
       "      <td>16895.320000</td>\n",
       "      <td>50.000000</td>\n",
       "      <td>15360.000000</td>\n",
       "      <td>500.000000</td>\n",
       "      <td>550.000000</td>\n",
       "      <td>200.000000</td>\n",
       "      <td>3.000000</td>\n",
       "      <td>3.000000</td>\n",
       "      <td>0.000000</td>\n",
       "      <td>0.000000</td>\n",
       "      <td>0.000000</td>\n",
       "      <td>1359.000000</td>\n",
       "    </tr>\n",
       "    <tr>\n",
       "      <td>75%</td>\n",
       "      <td>1379.000000</td>\n",
       "      <td>62.000000</td>\n",
       "      <td>11.000000</td>\n",
       "      <td>558.207500</td>\n",
       "      <td>57.000000</td>\n",
       "      <td>21388.282500</td>\n",
       "      <td>1000.000000</td>\n",
       "      <td>30720.000000</td>\n",
       "      <td>3000.000000</td>\n",
       "      <td>1950.000000</td>\n",
       "      <td>200.000000</td>\n",
       "      <td>3.000000</td>\n",
       "      <td>3.000000</td>\n",
       "      <td>0.000000</td>\n",
       "      <td>3.000000</td>\n",
       "      <td>0.000000</td>\n",
       "      <td>1950.000000</td>\n",
       "    </tr>\n",
       "    <tr>\n",
       "      <td>max</td>\n",
       "      <td>1499.000000</td>\n",
       "      <td>75.000000</td>\n",
       "      <td>12.000000</td>\n",
       "      <td>1578.060000</td>\n",
       "      <td>224.000000</td>\n",
       "      <td>49745.690000</td>\n",
       "      <td>1000.000000</td>\n",
       "      <td>30720.000000</td>\n",
       "      <td>3000.000000</td>\n",
       "      <td>1950.000000</td>\n",
       "      <td>200.000000</td>\n",
       "      <td>3.000000</td>\n",
       "      <td>3.000000</td>\n",
       "      <td>854.000000</td>\n",
       "      <td>22.000000</td>\n",
       "      <td>93.000000</td>\n",
       "      <td>6411.000000</td>\n",
       "    </tr>\n",
       "  </tbody>\n",
       "</table>\n",
       "</div>"
      ],
      "text/plain": [
       "           user_id          age        month     duration  messages_used  \\\n",
       "count  3176.000000  3176.000000  3168.000000  3176.000000    3176.000000   \n",
       "mean   1251.542191    46.672859     8.317551   430.979232      37.890113   \n",
       "std     144.597802    16.566365     2.907181   225.103579      35.480888   \n",
       "min    1000.000000    18.000000     1.000000     0.000000       0.000000   \n",
       "25%    1126.000000    32.000000     6.000000   273.425000       9.000000   \n",
       "50%    1254.000000    46.000000     9.000000   420.615000      30.000000   \n",
       "75%    1379.000000    62.000000    11.000000   558.207500      57.000000   \n",
       "max    1499.000000    75.000000    12.000000  1578.060000     224.000000   \n",
       "\n",
       "            mb_used  messages_included  mb_per_month_included  \\\n",
       "count   3176.000000        3176.000000            3176.000000   \n",
       "mean   17142.146943         335.059824           19968.967254   \n",
       "std     7594.265024         435.439352            7040.366790   \n",
       "min        0.000000          50.000000           15360.000000   \n",
       "25%    12453.752500          50.000000           15360.000000   \n",
       "50%    16895.320000          50.000000           15360.000000   \n",
       "75%    21388.282500        1000.000000           30720.000000   \n",
       "max    49745.690000        1000.000000           30720.000000   \n",
       "\n",
       "       minutes_included  rub_monthly_fee   rub_per_gb  rub_per_message  \\\n",
       "count       3176.000000      3176.000000  3176.000000      3176.000000   \n",
       "mean        1250.157431       970.088161   184.996851         2.399874   \n",
       "std         1145.893032       641.700098    22.917861         0.916714   \n",
       "min          500.000000       550.000000   150.000000         1.000000   \n",
       "25%          500.000000       550.000000   150.000000         1.000000   \n",
       "50%          500.000000       550.000000   200.000000         3.000000   \n",
       "75%         3000.000000      1950.000000   200.000000         3.000000   \n",
       "max         3000.000000      1950.000000   200.000000         3.000000   \n",
       "\n",
       "       rub_per_minute  minutes_not_included  gb_not_included  \\\n",
       "count     3176.000000           3176.000000      3176.000000   \n",
       "mean         2.399874             21.427582         1.884446   \n",
       "std          0.916714             61.259138         3.178897   \n",
       "min          1.000000              0.000000         0.000000   \n",
       "25%          1.000000              0.000000         0.000000   \n",
       "50%          3.000000              0.000000         0.000000   \n",
       "75%          3.000000              0.000000         3.000000   \n",
       "max          3.000000            854.000000        22.000000   \n",
       "\n",
       "       messages_not_included  revenue_per_month  \n",
       "count            3176.000000        3176.000000  \n",
       "mean                4.070529        1413.411839  \n",
       "std                11.569117         769.092888  \n",
       "min                 0.000000         550.000000  \n",
       "25%                 0.000000         612.250000  \n",
       "50%                 0.000000        1359.000000  \n",
       "75%                 0.000000        1950.000000  \n",
       "max                93.000000        6411.000000  "
      ]
     },
     "execution_count": 51,
     "metadata": {},
     "output_type": "execute_result"
    }
   ],
   "source": [
    "df.describe()"
   ]
  },
  {
   "cell_type": "code",
   "execution_count": 89,
   "metadata": {},
   "outputs": [],
   "source": [
    "def plot(x, y=None, title=None, x_label=None, y_label=None, kind='plot', **kwargs):\n",
    "    f, n = {\n",
    "        'plot': (plt.plot, 2),\n",
    "        'line': (plt.plot, 2),\n",
    "        'scatter': (plt.scatter, 2),\n",
    "        'hist': (plt.hist, 1),\n",
    "        'dist': (sns.distplot, 1),\n",
    "        'box': (sns.boxplot, 1),\n",
    "        'violin': (sns.violinplot, 1),\n",
    "        'reg': (sns.regplot, 2),\n",
    "        'lm': (sns.lmplot, 2),\n",
    "        \n",
    "    }[kind]\n",
    "    f(x, **kwargs) if n == 1 else f(x, y, **kwargs)\n",
    "    ax = kwargs['ax'] if 'ax' in kwargs else plt.gca()\n",
    "    ax.set_xlabel(x_label)\n",
    "    ax.set_ylabel(y_label)\n",
    "    ax.set_title(title)\n",
    "    return ax"
   ]
  },
  {
   "cell_type": "code",
   "execution_count": 103,
   "metadata": {},
   "outputs": [
    {
     "data": {
      "image/png": "[encoded data removed]",
      "text/plain": [
       "<Figure size 720x576 with 8 Axes>"
      ]
     },
     "metadata": {
      "needs_background": "light"
     },
     "output_type": "display_data"
    }
   ],
   "source": [
    "var_dict = {'длительность разговоров в месяц, мин': 'duration','трафик интернета в месяц, Гб':'mb_used','сообщений в месяц, шт.':'messages_used', 'траты в месяц, руб.':'revenue_per_month'}\n",
    "f, axs = plt.subplots(4, 2, figsize=(10, 8) )\n",
    "axs = axs.flatten()\n",
    "f.tight_layout()\n",
    "i=0\n",
    "for ru,c in var_dict.items():   \n",
    "    plot(df.loc[df['tariff'] == 'ultra'][c], x_label=ru, kind='violin', ax=axs[i])\n",
    "    axs[i].set_title('ultra')\n",
    "    plot(df.loc[df['tariff'] == 'smart'][c], x_label=ru, kind='violin', ax=axs[i+1])\n",
    "    axs[i+1].set_title('smart')\n",
    "    i+=2\n",
    "plt.tight_layout()   "
   ]
  },
  {
   "cell_type": "markdown",
   "metadata": {},
   "source": [
    "На графиках видно, что медиана длительности разговоров в месяц у ultra около 500, smart - 400, трафик интернета в месяц примерно одинаков, сообщений больше у ультра и по медиане и хвост длинее. Траты же в среднем в 2 раза больше у ultra."
   ]
  },
  {
   "cell_type": "markdown",
   "metadata": {},
   "source": [
    "### Вывод\n",
    "Поведение клиентов оператора, исходя из выборки в 2х тарифах различается. В основном ultra укладывается в пакет, smart - нет. У ultra более разнообразное поведение клиентов - дисперсия выше. Но в среднем им всего требуется больше. И платят они за это в 2 раза больше. Ближе всего значение потребления трафика интернета  - в среднем пользователи ultra посмотрели на 2 фильма больше в приемлемом качестве (если переводить в эти ед.изм.)"
   ]
  },
  {
   "cell_type": "markdown",
   "metadata": {},
   "source": [
    "## Шаг 4. Проверьте гипотезы\n",
    "Выдвигаем гипотезу, о том, что средняя выручка пользователей тарифов «Ультра» и «Смарт» различается. Используем гипотезу о равенстве средних для зависимых (парных) выборок. Парная выборка означает, что мы измеряем некоторую переменную для одних и тех же единиц. В нашем распоряжении измерения для пользователей одного оператора на 2-х тарифах.\n",
    "\n",
    "Нулевая гипотеза: средняя выручка пользователей тарифов «Ультра» и «Смарт» равна между собой. Альтернативная гипотеза: средная выручка пользователей тарифа «Ультра» больше тарифа «Смарт» (т.к. мы узнали, что в среднем это так)."
   ]
  },
  {
   "cell_type": "code",
   "execution_count": 32,
   "metadata": {},
   "outputs": [
    {
     "data": {
      "text/plain": [
       "953"
      ]
     },
     "execution_count": 32,
     "metadata": {},
     "output_type": "execute_result"
    }
   ],
   "source": [
    "len(df.query('tariff == \"ultra\"'))\n"
   ]
  },
  {
   "cell_type": "code",
   "execution_count": 33,
   "metadata": {},
   "outputs": [
    {
     "name": "stdout",
     "output_type": "stream",
     "text": [
      "p-значение:  3.8347161341330393e-171\n",
      "cредние траты в месяц smart:  1158.81\n",
      "cредние траты в месяц ultra:  2050.58\n",
      "p-значение: 3.8347161341330393e-171\n",
      "Отвергаем нулевую гипотезу\n"
     ]
    }
   ],
   "source": [
    "revenue_smart = df.query('tariff == \"smart\"')['revenue_per_month'].sample(n=len(df.query('tariff == \"ultra\"'))) \n",
    "revenue_ultra = df.query('tariff == \"ultra\"')['revenue_per_month']\n",
    "\n",
    "revenue_smart_m = round(revenue_smart.mean(),2)\n",
    "revenue_ultra_m =round(revenue_ultra.mean(),2)\n",
    "\n",
    "alpha = .05 # критический уровень статистической значимости\n",
    "\n",
    "\n",
    "results = st.ttest_rel(revenue_smart, revenue_ultra)\n",
    "\n",
    "print('p-значение: ', results.pvalue)\n",
    "\n",
    "print('cредние траты в месяц smart: ',revenue_smart_m)\n",
    "print('cредние траты в месяц ultra: ',revenue_ultra_m)\n",
    "\n",
    "alpha = .05# ваш код: задайте критический уровень статистической значимости\n",
    "\n",
    "results =  st.ttest_rel(revenue_smart, revenue_ultra)\n",
    "\n",
    "print('p-значение:', results.pvalue)\n",
    "\n",
    "if (results.pvalue < alpha):\n",
    "    print(\"Отвергаем нулевую гипотезу\")\n",
    "else:\n",
    "    print(\"Не получилось отвергнуть нулевую гипотезу\")"
   ]
  },
  {
   "cell_type": "markdown",
   "metadata": {},
   "source": [
    "Нулевую гипотезу отвергли, а среднее траты ultra больше средних трат smart, значит первое приносит больше денег."
   ]
  },
  {
   "cell_type": "markdown",
   "metadata": {},
   "source": [
    "Проверим гипотезу, что средняя выручка пользователей из Москвы отличается от выручки пользователей из других регионов.\n",
    "\n",
    "Нулевая гипотеза: средняя выручка пользователей из Москвы и других городов равна между собой. \n",
    "\n",
    "Альтернативная гипотеза: средная выручка с москвичей больше других городов (т.к. столичные ребята живут богато)."
   ]
  },
  {
   "cell_type": "code",
   "execution_count": 34,
   "metadata": {},
   "outputs": [
    {
     "name": "stdout",
     "output_type": "stream",
     "text": [
      "p-значение:  0.7391522642199426\n",
      "cредние траты в месяц Москва:  1445.0393442622951\n",
      "cредние траты в месяц другие города:  1430.272131147541\n",
      "p-значение: 0.7391522642199426\n",
      "Не получилось отвергнуть нулевую гипотезу\n"
     ]
    }
   ],
   "source": [
    "revenue_msk = df.query('city == \"Москва\"')['revenue_per_month']\n",
    "revenue_dif = df.query('city != \"Москва\"')['revenue_per_month'].sample(n=len( df.query('city == \"Москва\"')['revenue_per_month'])) \n",
    "\n",
    "revenue_msk_m = revenue_msk.mean()\n",
    "revenue_dif_m =revenue_dif.mean()\n",
    "\n",
    "alpha = .05 # критический уровень статистической значимости\n",
    "\n",
    "\n",
    "results = st.ttest_rel(revenue_dif, revenue_msk)\n",
    "\n",
    "print('p-значение: ', results.pvalue)\n",
    "\n",
    "print('cредние траты в месяц Москва: ',revenue_msk_m)\n",
    "print('cредние траты в месяц другие города: ',revenue_dif_m)\n",
    "\n",
    "alpha = .05# ваш код: задайте критический уровень статистической значимости\n",
    "\n",
    "results =  st.ttest_rel(revenue_dif, revenue_msk)\n",
    "\n",
    "print('p-значение:', results.pvalue)\n",
    "\n",
    "if (results.pvalue < alpha):\n",
    "    print(\"Отвергаем нулевую гипотезу\")\n",
    "else:\n",
    "    print(\"Не получилось отвергнуть нулевую гипотезу\")"
   ]
  },
  {
   "cell_type": "markdown",
   "metadata": {},
   "source": [
    "Москва не тратит на связь больше, чем другие города. \n",
    "\n",
    "Интересно посмотреть, не чаше ли отключаются с одного из тарифов."
   ]
  },
  {
   "cell_type": "code",
   "execution_count": 35,
   "metadata": {},
   "outputs": [
    {
     "name": "stdout",
     "output_type": "stream",
     "text": [
      "в среднем отключаются от smart: 5 %\n",
      "в среднем отключаются от ultra: 8 %\n",
      "на сколько процентов ultra приносит больше денег, чем smart:  64  %\n",
      "сколько нужно пользователей smart, чтобы заменить собой одного пользователя ultra по выручке:  1.77  чел.\n",
      "на сколько популярнее smart, чем ultra:  70  %\n"
     ]
    }
   ],
   "source": [
    "otkl_smart_m = my_proc(smart.query('churn_date.notnull()')['churn_date'].count(), len(smart))\n",
    "otkl_ultra_m = my_proc(ultra.query('churn_date.notnull()')['churn_date'].count(), len(ultra))\n",
    "\n",
    "\n",
    "print(f'в среднем отключаются от smart: {otkl_smart_m} %')\n",
    "print(f'в среднем отключаются от ultra: {otkl_ultra_m} %')\n",
    "\n",
    "print('на сколько процентов ultra приносит больше денег, чем smart: ', my_proc(revenue_ultra_m, revenue_smart_m +revenue_ultra_m), ' %')\n",
    "print('сколько нужно пользователей smart, чтобы заменить собой одного пользователя ultra по выручке: ', round(revenue_ultra_m/revenue_smart_m,2), ' чел.')\n",
    "print('на сколько популярнее smart, чем ultra: ', my_proc(len(users.query('tariff == \"smart\"')),len(users)), ' %')\n",
    "\n"
   ]
  },
  {
   "cell_type": "markdown",
   "metadata": {},
   "source": [
    "<div class=\"alert alert-block alert-success\">\n",
    "Комментарий ревьюера v. 1:\n",
    "    \n",
    "Дополнительные материалы: https://www.analyticsvidhya.com/blog/2019/09/everything-know-about-p-value-from-scratch-data-science/, https://ocw.mit.edu/courses/mathematics/18-443-statistics-for-applications-fall-2006/lecture-notes/lecture13.pdf \n",
    "</div>"
   ]
  },
  {
   "cell_type": "markdown",
   "metadata": {},
   "source": [
    "### Вывод\n",
    "Пользователи ultra приносят больше денег, чем пользователи smart. Уходят с тарифа ultra чуть чаше, а smart много популярнее. Москвичи так же бережливы, как и жители замкадья."
   ]
  },
  {
   "cell_type": "markdown",
   "metadata": {},
   "source": [
    "## Общий вывод\n",
    "\n",
    "Анализируя полученные данные мы удалили звонки длительностью в ноль минут. Во всех таблицах перевели дату в формат datetime64. Для каждого клиента мы расписали активность по месяцам и ежемесячные траты.\n",
    "\n",
    "Поведение клиентов оператора, исходя из выборки по тарифам различается. В основном ultra укладывается в пакет, smart - нет. У ultra более разнообразное поведение клиентов - дисперсия выше. Но в среднем им всего требуется больше. И платят они за это в 2 раза больше. \n",
    "\n",
    "Пользователи ultra по отдельности приносят больше денег, чем пользователи smart. Уходят с тарифа ultra чуть чаше, а smart более чем в 2 раза популярнее. Москвичи так же бережливы, как и жители других городов.\n",
    "\n",
    "<b>Вывод: рекомендуем рекламировать smart во всех городах России.</b> Он привлечет больше пользователей, как минимум в 2 раза больше. При этом 2 пользоватяля smart принесут прибыли больше, чем 1 ultra"
   ]
  },
  {
   "cell_type": "code",
   "execution_count": null,
   "metadata": {},
   "outputs": [],
   "source": []
  }
 ],
 "metadata": {
  "ExecuteTimeLog": [
   {
    "duration": 1161,
    "start_time": "2021-09-26T16:43:35.684Z"
   },
   {
    "duration": 3,
    "start_time": "2021-09-26T16:43:36.846Z"
   },
   {
    "duration": 401,
    "start_time": "2021-09-26T16:43:36.851Z"
   },
   {
    "duration": 52,
    "start_time": "2021-09-26T16:43:37.254Z"
   },
   {
    "duration": 229,
    "start_time": "2021-09-26T16:43:37.308Z"
   },
   {
    "duration": 14,
    "start_time": "2021-09-26T16:43:37.538Z"
   },
   {
    "duration": 30,
    "start_time": "2021-09-26T16:43:37.553Z"
   },
   {
    "duration": 7,
    "start_time": "2021-09-26T16:43:37.586Z"
   },
   {
    "duration": 15,
    "start_time": "2021-09-26T16:43:37.595Z"
   },
   {
    "duration": 8,
    "start_time": "2021-09-26T16:43:37.612Z"
   },
   {
    "duration": 11,
    "start_time": "2021-09-26T16:43:37.621Z"
   },
   {
    "duration": 10,
    "start_time": "2021-09-26T16:43:37.634Z"
   },
   {
    "duration": 254,
    "start_time": "2021-09-26T16:43:37.645Z"
   },
   {
    "duration": 12,
    "start_time": "2021-09-26T16:43:37.901Z"
   },
   {
    "duration": 10,
    "start_time": "2021-09-26T16:43:37.915Z"
   },
   {
    "duration": 239,
    "start_time": "2021-09-26T16:43:37.927Z"
   },
   {
    "duration": 70,
    "start_time": "2021-09-26T16:43:38.168Z"
   },
   {
    "duration": 9496,
    "start_time": "2021-09-26T16:43:38.306Z"
   },
   {
    "duration": 363,
    "start_time": "2021-09-26T16:43:47.441Z"
   },
   {
    "duration": 286,
    "start_time": "2021-09-26T16:44:37.002Z"
   },
   {
    "duration": 289,
    "start_time": "2021-09-26T16:44:58.724Z"
   },
   {
    "duration": 8822,
    "start_time": "2021-09-26T17:06:20.453Z"
   },
   {
    "duration": 5,
    "start_time": "2021-09-26T17:06:41.352Z"
   },
   {
    "duration": 7,
    "start_time": "2021-09-26T17:06:41.359Z"
   },
   {
    "duration": 419,
    "start_time": "2021-09-26T17:06:41.369Z"
   },
   {
    "duration": 58,
    "start_time": "2021-09-26T17:06:41.790Z"
   },
   {
    "duration": 190,
    "start_time": "2021-09-26T17:06:41.850Z"
   },
   {
    "duration": 10,
    "start_time": "2021-09-26T17:06:42.041Z"
   },
   {
    "duration": 30,
    "start_time": "2021-09-26T17:06:42.053Z"
   },
   {
    "duration": 13,
    "start_time": "2021-09-26T17:06:42.085Z"
   },
   {
    "duration": 17,
    "start_time": "2021-09-26T17:06:42.100Z"
   },
   {
    "duration": 23,
    "start_time": "2021-09-26T17:06:42.119Z"
   },
   {
    "duration": 21,
    "start_time": "2021-09-26T17:06:42.144Z"
   },
   {
    "duration": 21,
    "start_time": "2021-09-26T17:06:42.167Z"
   },
   {
    "duration": 249,
    "start_time": "2021-09-26T17:06:42.190Z"
   },
   {
    "duration": 13,
    "start_time": "2021-09-26T17:06:42.442Z"
   },
   {
    "duration": 27,
    "start_time": "2021-09-26T17:06:42.456Z"
   },
   {
    "duration": 226,
    "start_time": "2021-09-26T17:06:42.485Z"
   },
   {
    "duration": 63,
    "start_time": "2021-09-26T17:06:42.713Z"
   },
   {
    "duration": 20,
    "start_time": "2021-09-26T17:06:42.779Z"
   },
   {
    "duration": 314,
    "start_time": "2021-09-26T17:06:42.801Z"
   },
   {
    "duration": 6,
    "start_time": "2021-09-26T17:06:43.117Z"
   },
   {
    "duration": 62,
    "start_time": "2021-09-26T17:06:43.125Z"
   },
   {
    "duration": 8,
    "start_time": "2021-09-26T17:06:43.189Z"
   },
   {
    "duration": 135,
    "start_time": "2021-09-26T17:06:43.198Z"
   },
   {
    "duration": 8,
    "start_time": "2021-09-26T17:06:43.335Z"
   },
   {
    "duration": 37,
    "start_time": "2021-09-26T17:06:43.345Z"
   },
   {
    "duration": 18,
    "start_time": "2021-09-26T17:06:43.384Z"
   },
   {
    "duration": 1988,
    "start_time": "2021-09-26T17:06:43.403Z"
   },
   {
    "duration": 23,
    "start_time": "2021-09-26T17:06:45.393Z"
   },
   {
    "duration": 68,
    "start_time": "2021-09-26T17:06:45.418Z"
   },
   {
    "duration": 1282,
    "start_time": "2021-09-26T17:06:45.488Z"
   },
   {
    "duration": 1356,
    "start_time": "2021-09-26T17:07:23.083Z"
   },
   {
    "duration": 1258,
    "start_time": "2021-09-26T17:08:06.498Z"
   },
   {
    "duration": 5,
    "start_time": "2021-09-26T17:08:52.528Z"
   },
   {
    "duration": 1241,
    "start_time": "2021-09-26T17:08:53.087Z"
   },
   {
    "duration": 11143,
    "start_time": "2021-09-26T17:09:08.919Z"
   },
   {
    "duration": 1283,
    "start_time": "2021-09-26T17:09:54.453Z"
   },
   {
    "duration": 1258,
    "start_time": "2021-09-26T17:14:36.144Z"
   },
   {
    "duration": 1388,
    "start_time": "2021-09-26T17:17:09.774Z"
   },
   {
    "duration": 1689,
    "start_time": "2021-09-26T17:19:57.129Z"
   },
   {
    "duration": 1391,
    "start_time": "2021-09-26T17:20:26.205Z"
   },
   {
    "duration": 1687,
    "start_time": "2021-09-26T17:23:39.420Z"
   },
   {
    "duration": 1297,
    "start_time": "2021-09-26T17:24:04.884Z"
   },
   {
    "duration": 1412,
    "start_time": "2021-09-26T17:24:32.639Z"
   },
   {
    "duration": 1346,
    "start_time": "2021-09-26T17:27:26.852Z"
   },
   {
    "duration": 1388,
    "start_time": "2021-09-26T17:29:17.293Z"
   },
   {
    "duration": 1626,
    "start_time": "2021-09-26T17:33:54.852Z"
   },
   {
    "duration": 1409,
    "start_time": "2021-09-26T17:35:59.860Z"
   },
   {
    "duration": 1411,
    "start_time": "2021-09-26T17:38:13.872Z"
   },
   {
    "duration": 1763,
    "start_time": "2021-09-26T17:38:33.988Z"
   },
   {
    "duration": 1603,
    "start_time": "2021-09-26T17:40:53.875Z"
   },
   {
    "duration": 1330,
    "start_time": "2021-09-26T17:47:22.215Z"
   },
   {
    "duration": 1381,
    "start_time": "2021-09-26T17:47:33.058Z"
   },
   {
    "duration": 1255,
    "start_time": "2021-09-26T17:47:40.285Z"
   },
   {
    "duration": 1365,
    "start_time": "2021-09-26T17:47:47.400Z"
   },
   {
    "duration": 1276,
    "start_time": "2021-09-26T17:47:52.514Z"
   },
   {
    "duration": 175,
    "start_time": "2021-09-26T17:49:55.940Z"
   },
   {
    "duration": 365,
    "start_time": "2021-09-26T17:50:04.316Z"
   },
   {
    "duration": 1224,
    "start_time": "2021-09-26T17:50:15.034Z"
   },
   {
    "duration": 1819,
    "start_time": "2021-09-26T17:52:20.054Z"
   },
   {
    "duration": 1754,
    "start_time": "2021-09-26T17:52:36.623Z"
   },
   {
    "duration": 1740,
    "start_time": "2021-09-26T17:53:42.709Z"
   },
   {
    "duration": 1757,
    "start_time": "2021-09-26T17:54:06.318Z"
   },
   {
    "duration": 5,
    "start_time": "2021-09-26T17:54:38.634Z"
   },
   {
    "duration": 1925,
    "start_time": "2021-09-26T17:54:39.411Z"
   },
   {
    "duration": 5,
    "start_time": "2021-09-26T17:55:00.281Z"
   },
   {
    "duration": 1997,
    "start_time": "2021-09-26T17:55:00.857Z"
   },
   {
    "duration": 6,
    "start_time": "2021-09-26T17:55:40.307Z"
   },
   {
    "duration": 1875,
    "start_time": "2021-09-26T17:55:41.091Z"
   },
   {
    "duration": 1745,
    "start_time": "2021-09-26T17:56:14.716Z"
   },
   {
    "duration": 1633,
    "start_time": "2021-09-26T17:56:21.895Z"
   },
   {
    "duration": 1698,
    "start_time": "2021-09-26T17:57:03.373Z"
   },
   {
    "duration": 1535,
    "start_time": "2021-09-26T17:57:41.732Z"
   },
   {
    "duration": 2017,
    "start_time": "2021-09-26T17:58:19.498Z"
   },
   {
    "duration": 1519,
    "start_time": "2021-09-26T17:58:24.866Z"
   },
   {
    "duration": 1994,
    "start_time": "2021-09-26T18:00:22.038Z"
   },
   {
    "duration": 2123,
    "start_time": "2021-09-26T18:00:29.392Z"
   },
   {
    "duration": 1214,
    "start_time": "2021-09-26T18:00:53.044Z"
   },
   {
    "duration": 1528,
    "start_time": "2021-09-26T18:01:05.052Z"
   },
   {
    "duration": 1641,
    "start_time": "2021-09-26T18:01:19.138Z"
   },
   {
    "duration": 1549,
    "start_time": "2021-09-26T18:02:23.536Z"
   },
   {
    "duration": 1584,
    "start_time": "2021-09-26T18:02:38.729Z"
   },
   {
    "duration": 10,
    "start_time": "2021-09-26T18:16:47.899Z"
   },
   {
    "duration": 10,
    "start_time": "2021-09-26T18:17:30.383Z"
   }
  ],
  "kernelspec": {
   "display_name": "Python 3",
   "language": "python",
   "name": "python3"
  },
  "language_info": {
   "codemirror_mode": {
    "name": "ipython",
    "version": 3
   },
   "file_extension": ".py",
   "mimetype": "text/x-python",
   "name": "python",
   "nbconvert_exporter": "python",
   "pygments_lexer": "ipython3",
   "version": "3.7.8"
  },
  "toc": {
   "base_numbering": 1,
   "nav_menu": {
    "height": "339.983px",
    "width": "226.354px"
   },
   "number_sections": true,
   "sideBar": true,
   "skip_h1_title": true,
   "title_cell": "Table of Contents",
   "title_sidebar": "Contents",
   "toc_cell": false,
   "toc_position": {},
   "toc_section_display": true,
   "toc_window_display": false
  }
 },
 "nbformat": 4,
 "nbformat_minor": 2
}
